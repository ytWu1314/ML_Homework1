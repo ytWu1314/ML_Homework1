{
 "cells": [
  {
   "cell_type": "code",
   "execution_count": 2,
   "source": [
    "# This Python 3 environment comes with many helpful analytics libraries installed\r\n",
    "# It is defined by the kaggle/python docker image: https://github.com/kaggle/docker-python\r\n",
    "# For example, here's several helpful packages to load in\r\n",
    "\r\n",
    "import numpy as np # linear algebra\r\n",
    "import pandas as pd # data processing, CSV file I/O (e.g. pd.read_csv)\r\n",
    "import math\r\n",
    "from sklearn.linear_model import LogisticRegression\r\n",
    "from sklearn.svm import SVC, LinearSVC\r\n",
    "from sklearn.neighbors import KNeighborsClassifier\r\n",
    "from sklearn.naive_bayes import GaussianNB\r\n",
    "from sklearn.linear_model import SGDClassifier\r\n",
    "from sklearn.tree import DecisionTreeClassifier\r\n",
    "from sklearn.ensemble import RandomForestClassifier\r\n",
    "from sklearn.model_selection import StratifiedKFold\r\n",
    "from sklearn.model_selection import GridSearchCV\r\n",
    "\r\n",
    "# Input data files are available in the \"../input/\" directory.\r\n",
    "# For example, running this (by clicking run or pressing Shift+Enter) will list the files in the input directory\r\n",
    "\r\n",
    "import os\r\n",
    "print(os.listdir(\"./input\"))\r\n",
    "\r\n",
    "# Any results you write to the current directory are saved as output.\r\n",
    "\r\n",
    "#合并两个文档\r\n",
    "data_train = pd.read_csv('./input/train.csv')\r\n",
    "data_test = pd.read_csv('./input/test.csv') #这里读取的是一个读取的Pandas格式\r\n",
    "combine = [data_train, data_test] #这是一个列表\r\n"
   ],
   "outputs": [
    {
     "output_type": "stream",
     "name": "stdout",
     "text": [
      "['gender_submission.csv', 'submission.csv', 'test.csv', 'train.csv']\n"
     ]
    }
   ],
   "metadata": {}
  },
  {
   "cell_type": "code",
   "execution_count": 3,
   "source": [
    "#每行缺失值\r\n",
    "#data_train.shape[1] - data_train.count(axis=1)\r\n",
    "#每列缺失值\r\n",
    "data_train.shape[0] - data_train.count()\r\n",
    "#这里的结果和我在博客看到的不符，但经过检查，结果无误。猜测：官方更改了数据集"
   ],
   "outputs": [
    {
     "output_type": "execute_result",
     "data": {
      "text/plain": [
       "PassengerId      0\n",
       "Survived         0\n",
       "Pclass           0\n",
       "Name             0\n",
       "Sex              0\n",
       "Age            177\n",
       "SibSp            0\n",
       "Parch            0\n",
       "Ticket           0\n",
       "Fare             0\n",
       "Cabin          687\n",
       "Embarked         2\n",
       "dtype: int64"
      ]
     },
     "metadata": {},
     "execution_count": 3
    }
   ],
   "metadata": {}
  },
  {
   "cell_type": "code",
   "execution_count": 4,
   "source": [
    "#查看预测样本集合内缺失\r\n",
    "data_test.shape[0] - data_test.count()"
   ],
   "outputs": [
    {
     "output_type": "execute_result",
     "data": {
      "text/plain": [
       "PassengerId      0\n",
       "Pclass           0\n",
       "Name             0\n",
       "Sex              0\n",
       "Age             86\n",
       "SibSp            0\n",
       "Parch            0\n",
       "Ticket           0\n",
       "Fare             1\n",
       "Cabin          327\n",
       "Embarked         0\n",
       "dtype: int64"
      ]
     },
     "metadata": {},
     "execution_count": 4
    }
   ],
   "metadata": {}
  },
  {
   "cell_type": "code",
   "execution_count": 5,
   "source": [
    "data_train.shape\r\n"
   ],
   "outputs": [
    {
     "output_type": "execute_result",
     "data": {
      "text/plain": [
       "(891, 12)"
      ]
     },
     "metadata": {},
     "execution_count": 5
    }
   ],
   "metadata": {}
  },
  {
   "cell_type": "code",
   "execution_count": 6,
   "source": [
    "data_train.columns"
   ],
   "outputs": [
    {
     "output_type": "execute_result",
     "data": {
      "text/plain": [
       "Index(['PassengerId', 'Survived', 'Pclass', 'Name', 'Sex', 'Age', 'SibSp',\n",
       "       'Parch', 'Ticket', 'Fare', 'Cabin', 'Embarked'],\n",
       "      dtype='object')"
      ]
     },
     "metadata": {},
     "execution_count": 6
    }
   ],
   "metadata": {}
  },
  {
   "cell_type": "code",
   "execution_count": 7,
   "source": [
    "data_train.dtypes\r\n"
   ],
   "outputs": [
    {
     "output_type": "execute_result",
     "data": {
      "text/plain": [
       "PassengerId      int64\n",
       "Survived         int64\n",
       "Pclass           int64\n",
       "Name            object\n",
       "Sex             object\n",
       "Age            float64\n",
       "SibSp            int64\n",
       "Parch            int64\n",
       "Ticket          object\n",
       "Fare           float64\n",
       "Cabin           object\n",
       "Embarked        object\n",
       "dtype: object"
      ]
     },
     "metadata": {},
     "execution_count": 7
    }
   ],
   "metadata": {}
  },
  {
   "cell_type": "code",
   "execution_count": 8,
   "source": [
    "#此处记录一个非常强悍的查看缺失值的方法\r\n",
    "import missingno as msno\r\n",
    "msno.matrix(data_train,figsize=(14,6))#figsize制图大小"
   ],
   "outputs": [
    {
     "output_type": "execute_result",
     "data": {
      "text/plain": [
       "<AxesSubplot:>"
      ]
     },
     "metadata": {},
     "execution_count": 8
    },
    {
     "output_type": "display_data",
     "data": {
      "image/png": "[encoded data removed]",
      "text/plain": [
       "<Figure size 1008x432 with 2 Axes>"
      ]
     },
     "metadata": {
      "needs_background": "light"
     }
    }
   ],
   "metadata": {}
  },
  {
   "cell_type": "code",
   "execution_count": 9,
   "source": [
    "data_train.head()\r\n"
   ],
   "outputs": [
    {
     "output_type": "execute_result",
     "data": {
      "text/html": [
       "<div>\n",
       "<style scoped>\n",
       "    .dataframe tbody tr th:only-of-type {\n",
       "        vertical-align: middle;\n",
       "    }\n",
       "\n",
       "    .dataframe tbody tr th {\n",
       "        vertical-align: top;\n",
       "    }\n",
       "\n",
       "    .dataframe thead th {\n",
       "        text-align: right;\n",
       "    }\n",
       "</style>\n",
       "<table border=\"1\" class=\"dataframe\">\n",
       "  <thead>\n",
       "    <tr style=\"text-align: right;\">\n",
       "      <th></th>\n",
       "      <th>PassengerId</th>\n",
       "      <th>Survived</th>\n",
       "      <th>Pclass</th>\n",
       "      <th>Name</th>\n",
       "      <th>Sex</th>\n",
       "      <th>Age</th>\n",
       "      <th>SibSp</th>\n",
       "      <th>Parch</th>\n",
       "      <th>Ticket</th>\n",
       "      <th>Fare</th>\n",
       "      <th>Cabin</th>\n",
       "      <th>Embarked</th>\n",
       "    </tr>\n",
       "  </thead>\n",
       "  <tbody>\n",
       "    <tr>\n",
       "      <th>0</th>\n",
       "      <td>1</td>\n",
       "      <td>0</td>\n",
       "      <td>3</td>\n",
       "      <td>Braund, Mr. Owen Harris</td>\n",
       "      <td>male</td>\n",
       "      <td>22.0</td>\n",
       "      <td>1</td>\n",
       "      <td>0</td>\n",
       "      <td>A/5 21171</td>\n",
       "      <td>7.2500</td>\n",
       "      <td>NaN</td>\n",
       "      <td>S</td>\n",
       "    </tr>\n",
       "    <tr>\n",
       "      <th>1</th>\n",
       "      <td>2</td>\n",
       "      <td>1</td>\n",
       "      <td>1</td>\n",
       "      <td>Cumings, Mrs. John Bradley (Florence Briggs Th...</td>\n",
       "      <td>female</td>\n",
       "      <td>38.0</td>\n",
       "      <td>1</td>\n",
       "      <td>0</td>\n",
       "      <td>PC 17599</td>\n",
       "      <td>71.2833</td>\n",
       "      <td>C85</td>\n",
       "      <td>C</td>\n",
       "    </tr>\n",
       "    <tr>\n",
       "      <th>2</th>\n",
       "      <td>3</td>\n",
       "      <td>1</td>\n",
       "      <td>3</td>\n",
       "      <td>Heikkinen, Miss. Laina</td>\n",
       "      <td>female</td>\n",
       "      <td>26.0</td>\n",
       "      <td>0</td>\n",
       "      <td>0</td>\n",
       "      <td>STON/O2. 3101282</td>\n",
       "      <td>7.9250</td>\n",
       "      <td>NaN</td>\n",
       "      <td>S</td>\n",
       "    </tr>\n",
       "    <tr>\n",
       "      <th>3</th>\n",
       "      <td>4</td>\n",
       "      <td>1</td>\n",
       "      <td>1</td>\n",
       "      <td>Futrelle, Mrs. Jacques Heath (Lily May Peel)</td>\n",
       "      <td>female</td>\n",
       "      <td>35.0</td>\n",
       "      <td>1</td>\n",
       "      <td>0</td>\n",
       "      <td>113803</td>\n",
       "      <td>53.1000</td>\n",
       "      <td>C123</td>\n",
       "      <td>S</td>\n",
       "    </tr>\n",
       "    <tr>\n",
       "      <th>4</th>\n",
       "      <td>5</td>\n",
       "      <td>0</td>\n",
       "      <td>3</td>\n",
       "      <td>Allen, Mr. William Henry</td>\n",
       "      <td>male</td>\n",
       "      <td>35.0</td>\n",
       "      <td>0</td>\n",
       "      <td>0</td>\n",
       "      <td>373450</td>\n",
       "      <td>8.0500</td>\n",
       "      <td>NaN</td>\n",
       "      <td>S</td>\n",
       "    </tr>\n",
       "  </tbody>\n",
       "</table>\n",
       "</div>"
      ],
      "text/plain": [
       "   PassengerId  Survived  Pclass  \\\n",
       "0            1         0       3   \n",
       "1            2         1       1   \n",
       "2            3         1       3   \n",
       "3            4         1       1   \n",
       "4            5         0       3   \n",
       "\n",
       "                                                Name     Sex   Age  SibSp  \\\n",
       "0                            Braund, Mr. Owen Harris    male  22.0      1   \n",
       "1  Cumings, Mrs. John Bradley (Florence Briggs Th...  female  38.0      1   \n",
       "2                             Heikkinen, Miss. Laina  female  26.0      0   \n",
       "3       Futrelle, Mrs. Jacques Heath (Lily May Peel)  female  35.0      1   \n",
       "4                           Allen, Mr. William Henry    male  35.0      0   \n",
       "\n",
       "   Parch            Ticket     Fare Cabin Embarked  \n",
       "0      0         A/5 21171   7.2500   NaN        S  \n",
       "1      0          PC 17599  71.2833   C85        C  \n",
       "2      0  STON/O2. 3101282   7.9250   NaN        S  \n",
       "3      0            113803  53.1000  C123        S  \n",
       "4      0            373450   8.0500   NaN        S  "
      ]
     },
     "metadata": {},
     "execution_count": 9
    }
   ],
   "metadata": {}
  },
  {
   "cell_type": "code",
   "execution_count": 10,
   "source": [
    "#方法一：填充中位数\r\n",
    "age_median = data_train.Age.median()\r\n",
    "age_median\r\n"
   ],
   "outputs": [
    {
     "output_type": "execute_result",
     "data": {
      "text/plain": [
       "28.0"
      ]
     },
     "metadata": {},
     "execution_count": 10
    }
   ],
   "metadata": {}
  },
  {
   "cell_type": "code",
   "execution_count": 11,
   "source": [
    "#方法二：根据每个人对应的称谓中位数填充，更加准确，如miss和Mrs可能年龄不同\r\n",
    "#1.检查称谓\r\n",
    "count = 0 #count the number of names without \"Mr./Miss./Master./Dr./Mrs.\"\r\n",
    "def check_if_the_name_including_reguler(dataset,count):\r\n",
    "    for data in dataset.Name:\r\n",
    "        if (\"Mr.\" not in data) & (\"Miss.\" not in data) & (\"Master.\" not in data) & (\"Dr.\" not in data) & (\"Mrs.\" not in data):\r\n",
    "            print(data)\r\n",
    "            count = count +1\r\n",
    "    print(\"\\nthe number of names without 'Mr./Miss./Master./Dr./Mrs.' is \" + str(count))\r\n",
    "    return count\r\n",
    "\r\n",
    "check_if_the_name_including_reguler(data_train,count)\r\n"
   ],
   "outputs": [
    {
     "output_type": "stream",
     "name": "stdout",
     "text": [
      "Uruchurtu, Don. Manuel E\n",
      "Byles, Rev. Thomas Roussel Davids\n",
      "Bateman, Rev. Robert James\n",
      "Carter, Rev. Ernest Courtenay\n",
      "Aubart, Mme. Leontine Pauline\n",
      "Reynaldo, Ms. Encarnacion\n",
      "Peuchen, Major. Arthur Godfrey\n",
      "Butt, Major. Archibald Willingham\n",
      "Duff Gordon, Lady. (Lucille Christiana Sutherland) (\"Mrs Morgan\")\n",
      "Duff Gordon, Sir. Cosmo Edmund (\"Mr Morgan\")\n",
      "Kirkland, Rev. Charles Leonard\n",
      "Sagesser, Mlle. Emma\n",
      "Simonius-Blumer, Col. Oberst Alfons\n",
      "Weir, Col. John\n",
      "Mayne, Mlle. Berthe Antonine (\"Mrs de Villiers\")\n",
      "Crosby, Capt. Edward Gifford\n",
      "Rothes, the Countess. of (Lucy Noel Martha Dyer-Edwards)\n",
      "Reuchlin, Jonkheer. John George\n",
      "Harper, Rev. John\n",
      "Montvila, Rev. Juozas\n",
      "\n",
      "the number of names without 'Mr./Miss./Master./Dr./Mrs.' is 20\n"
     ]
    },
    {
     "output_type": "execute_result",
     "data": {
      "text/plain": [
       "20"
      ]
     },
     "metadata": {},
     "execution_count": 11
    }
   ],
   "metadata": {}
  },
  {
   "cell_type": "code",
   "execution_count": 12,
   "source": [
    "#统计每种称谓的平均年龄\r\n",
    "age_in = []   #Mr./Miss./Master./Dr./Mrs.\r\n",
    "for i in range(0,5):\r\n",
    "    age_in.insert(0,[0,0])\r\n",
    "def count_every_call_mid(data_train,age_in):\r\n",
    "    #data_train.ix[\"Miss.\" in data_train.Name]\r\n",
    "    for data in data_train.index:\r\n",
    "        #print(data_train.loc[data,\"Name\"])\r\n",
    "        if \"Mr.\" in data_train.loc[data,\"Name\"]:\r\n",
    "            if not math.isnan(data_train.loc[data,\"Age\"]) :\r\n",
    "                age_in[0][0]+=data_train.loc[data,\"Age\"]\r\n",
    "                age_in[0][1]+=1\r\n",
    "        elif \"Miss.\" in data_train.loc[data,\"Name\"]:\r\n",
    "            if not math.isnan(data_train.loc[data,\"Age\"]) :\r\n",
    "                age_in[1][0]+=data_train.loc[data,\"Age\"]\r\n",
    "                age_in[1][1]+=1\r\n",
    "        elif \"Master.\" in data_train.loc[data,\"Name\"]:\r\n",
    "            if not math.isnan(data_train.loc[data,\"Age\"]) :\r\n",
    "                age_in[2][0]+=data_train.loc[data,\"Age\"]\r\n",
    "                age_in[2][1]+=1\r\n",
    "        elif \"Dr.\" in data_train.loc[data,\"Name\"]:\r\n",
    "            if not math.isnan(data_train.loc[data,\"Age\"]) :\r\n",
    "                age_in[3][0]+=data_train.loc[data,\"Age\"]\r\n",
    "                age_in[3][1]+=1\r\n",
    "        elif \"Mrs.\" in data_train.loc[data,\"Name\"]:\r\n",
    "            if not math.isnan(data_train.loc[data,\"Age\"]) :\r\n",
    "                age_in[4][0]+=data_train.loc[data,\"Age\"]\r\n",
    "                age_in[4][1]+=1\r\n",
    "    return age_in\r\n",
    "\r\n",
    "count_every_call_mid(data_train,age_in)\r\n",
    "age_median = data_train.Age.median()\r\n",
    "ave=[0,0,0,0,0]\r\n",
    "for i in range(0,5):\r\n",
    "    ave[i]=age_in[i][0]/age_in[i][1]\r\n",
    "    print(ave[i])#Mr./Miss./Master./Dr./Mrs.\r\n"
   ],
   "outputs": [
    {
     "output_type": "stream",
     "name": "stdout",
     "text": [
      "32.368090452261306\n",
      "21.773972602739725\n",
      "4.574166666666667\n",
      "42.0\n",
      "35.898148148148145\n"
     ]
    }
   ],
   "metadata": {}
  },
  {
   "cell_type": "code",
   "execution_count": 13,
   "source": [
    "#将各称呼年龄平均年龄填充，非常用称呼用平均年龄填充\r\n",
    "def replace_age_by_mid_of_call(dataset):\r\n",
    "    for data in dataset.index:\r\n",
    "        #print(data_train.loc[data,\"Name\"])\r\n",
    "        if math.isnan(dataset.loc[data,\"Age\"]) :\r\n",
    "            if \"Mr.\" in dataset.loc[data,\"Name\"]:\r\n",
    "                dataset.loc[data,\"Age\"]=ave[0]\r\n",
    "            elif \"Miss.\" in dataset.loc[data,\"Name\"]:\r\n",
    "                dataset.loc[data,\"Age\"]=ave[1]\r\n",
    "            elif \"Master.\" in dataset.loc[data,\"Name\"]:\r\n",
    "                dataset.loc[data,\"Age\"]=ave[2]\r\n",
    "            elif \"Dr.\" in dataset.loc[data,\"Name\"]:\r\n",
    "                dataset.loc[data,\"Age\"]=ave[3]\r\n",
    "            elif \"Mrs.\" in dataset.loc[data,\"Name\"]:\r\n",
    "                dataset.loc[data,\"Age\"]=ave[4]\r\n",
    "            else:\r\n",
    "                dataset.loc[data,\"Age\"]=age_median\r\n",
    "replace_age_by_mid_of_call(data_train)\r\n"
   ],
   "outputs": [],
   "metadata": {}
  },
  {
   "cell_type": "code",
   "execution_count": 14,
   "source": [
    "#此处对于pandas读取的文件和列表有不同的处理格式\r\n",
    "#统计整体内除了基本称呼\"Mr./Miss./Master./Dr./Mrs.\"以外的称呼占总体称呼的多少\r\n",
    "count = 0\r\n",
    "for dataset in combine:\r\n",
    "    count = check_if_the_name_including_reguler(dataset,count)\r\n",
    "    print(\"\\n\")\r\n"
   ],
   "outputs": [
    {
     "output_type": "stream",
     "name": "stdout",
     "text": [
      "Uruchurtu, Don. Manuel E\n",
      "Byles, Rev. Thomas Roussel Davids\n",
      "Bateman, Rev. Robert James\n",
      "Carter, Rev. Ernest Courtenay\n",
      "Aubart, Mme. Leontine Pauline\n",
      "Reynaldo, Ms. Encarnacion\n",
      "Peuchen, Major. Arthur Godfrey\n",
      "Butt, Major. Archibald Willingham\n",
      "Duff Gordon, Lady. (Lucille Christiana Sutherland) (\"Mrs Morgan\")\n",
      "Duff Gordon, Sir. Cosmo Edmund (\"Mr Morgan\")\n",
      "Kirkland, Rev. Charles Leonard\n",
      "Sagesser, Mlle. Emma\n",
      "Simonius-Blumer, Col. Oberst Alfons\n",
      "Weir, Col. John\n",
      "Mayne, Mlle. Berthe Antonine (\"Mrs de Villiers\")\n",
      "Crosby, Capt. Edward Gifford\n",
      "Rothes, the Countess. of (Lucy Noel Martha Dyer-Edwards)\n",
      "Reuchlin, Jonkheer. John George\n",
      "Harper, Rev. John\n",
      "Montvila, Rev. Juozas\n",
      "\n",
      "the number of names without 'Mr./Miss./Master./Dr./Mrs.' is 20\n",
      "\n",
      "\n",
      "O'Donoghue, Ms. Bridget\n",
      "Gracie, Col. Archibald IV\n",
      "Lahtinen, Rev. William\n",
      "Peruschitz, Rev. Joseph Maria\n",
      "Astor, Col. John Jacob\n",
      "Oliva y Ocana, Dona. Fermina\n",
      "\n",
      "the number of names without 'Mr./Miss./Master./Dr./Mrs.' is 26\n",
      "\n",
      "\n"
     ]
    }
   ],
   "metadata": {}
  },
  {
   "cell_type": "code",
   "execution_count": 15,
   "source": [
    "#统计所有样本中，每种称谓的平均年龄：\r\n",
    "age_in = []   #Mr./Miss./Master./Dr./Mrs.\r\n",
    "for i in range(0,5):\r\n",
    "    age_in.insert(0,[0,0])\r\n",
    "for dataset in combine:\r\n",
    "    age_in = count_every_call_mid(dataset,age_in)\r\n",
    "age_median = data_train.Age.median()\r\n",
    "ave=[0,0,0,0,0]\r\n",
    "for i in range(0,5):\r\n",
    "    ave[i]=age_in[i][0]/age_in[i][1]\r\n",
    "    print(ave[i])#Mr./Miss./Master./Dr./Mrs.\r\n"
   ],
   "outputs": [
    {
     "output_type": "stream",
     "name": "stdout",
     "text": [
      "32.271861091170095\n",
      "21.77419924267737\n",
      "5.418888888888889\n",
      "43.375\n",
      "36.894484056248764\n"
     ]
    }
   ],
   "metadata": {}
  },
  {
   "cell_type": "code",
   "execution_count": 16,
   "source": [
    "#用新的平均值填充\r\n",
    "def replace_age_by_mid_of_call(dataset):\r\n",
    "    for data in dataset.index:\r\n",
    "        #print(data_train.loc[data,\"Name\"])\r\n",
    "        if math.isnan(dataset.loc[data,\"Age\"]) :\r\n",
    "            if \"Mr.\" in dataset.loc[data,\"Name\"]:\r\n",
    "                dataset.loc[data,\"Age\"]=ave[0]\r\n",
    "            elif \"Miss.\" in dataset.loc[data,\"Name\"]:\r\n",
    "                dataset.loc[data,\"Age\"]=ave[1]\r\n",
    "            elif \"Master.\" in dataset.loc[data,\"Name\"]:\r\n",
    "                dataset.loc[data,\"Age\"]=ave[2]\r\n",
    "            elif \"Dr.\" in dataset.loc[data,\"Name\"]:\r\n",
    "                dataset.loc[data,\"Age\"]=ave[3]\r\n",
    "            elif \"Mrs.\" in dataset.loc[data,\"Name\"]:\r\n",
    "                dataset.loc[data,\"Age\"]=ave[4]\r\n",
    "            else:\r\n",
    "                dataset.loc[data,\"Age\"]=age_median\r\n",
    "\r\n",
    "for dataset in combine:\r\n",
    "    replace_age_by_mid_of_call(dataset)\r\n"
   ],
   "outputs": [],
   "metadata": {}
  },
  {
   "cell_type": "code",
   "execution_count": 17,
   "source": [
    "#检查样本是否被填充\r\n",
    "data_test.shape[0] - data_test.count()\r\n",
    "#检查样本是否被填充\r\n",
    "#data_train.shape[0] - data_train.count()\r\n"
   ],
   "outputs": [
    {
     "output_type": "execute_result",
     "data": {
      "text/plain": [
       "PassengerId      0\n",
       "Pclass           0\n",
       "Name             0\n",
       "Sex              0\n",
       "Age              0\n",
       "SibSp            0\n",
       "Parch            0\n",
       "Ticket           0\n",
       "Fare             1\n",
       "Cabin          327\n",
       "Embarked         0\n",
       "dtype: int64"
      ]
     },
     "metadata": {},
     "execution_count": 17
    }
   ],
   "metadata": {}
  },
  {
   "cell_type": "code",
   "execution_count": 18,
   "source": [
    "#方法二：利用\r\n",
    "def replaceCabin(data):\r\n",
    "    data['Cabin'] = data['Cabin'].fillna('X')\r\n",
    "    data['Cabin'] = data['Cabin'].apply(lambda x: str(x)[0])\r\n",
    "    data['Cabin'] = data['Cabin'].replace(['A', 'D', 'E', 'T'], 'M')\r\n",
    "    data['Cabin'] = data['Cabin'].replace(['B', 'C'], 'H')\r\n",
    "    data['Cabin'] = data['Cabin'].replace(['F', 'G'], 'L')\r\n",
    "    data['Cabin'] = data['Cabin'].map({'X': 0, 'L': 1, 'M': 2, 'H': 3}).astype(int)\r\n",
    "\r\n",
    "# def replaceCabin(data):\r\n",
    "#     data['Cabin'] = data['Cabin'].fillna('X')\r\n",
    "#     data['Cabin'] = data['Cabin'].apply(lambda x: str(x)[0])\r\n",
    "# #     data['Cabin'] = data['Cabin'].replace(['A', 'D', 'E', 'T'], 'M')\r\n",
    "# #     data['Cabin'] = data['Cabin'].replace(['B', 'C'], 'H')\r\n",
    "# #     data['Cabin'] = data['Cabin'].replace(['F', 'G'], 'L')\r\n",
    "#     data['Cabin'] = data['Cabin'].map({'X': 0, 'A':1,'B':2,'C':3,'D':4,'E':5,'F':6,'G':7,'T':8}).astype(int) \r\n",
    "\r\n",
    "for dataset in combine:\r\n",
    "    replaceCabin(dataset)\r\n"
   ],
   "outputs": [],
   "metadata": {}
  },
  {
   "cell_type": "code",
   "execution_count": 19,
   "source": [
    "# for dataset in combine:\r\n",
    "#     print(dataset)\r\n",
    "#     if 'male' not in dataset['Sex']:\r\n",
    "#          print(dataset['Sex'])\r\n",
    "#     dataset['Sex'] = dataset['Sex'].map({'female': 1, 'male': 0}).astype(int)\r\n",
    "\r\n",
    "# data_train.head()\r\n",
    "data_train.replace({'Sex':{'female':1,'male':2}},inplace=True)\r\n",
    "# #处理预测样本集\r\n",
    "data_test.replace({'Sex':{'female':1,'male':2}},inplace=True)\r\n"
   ],
   "outputs": [],
   "metadata": {}
  },
  {
   "cell_type": "code",
   "execution_count": 20,
   "source": [
    "#方法一：选择平均值填充\r\n",
    "fare_median = data_test.Fare.median()\r\n",
    "data_test['Fare'].fillna(data_test['Fare'].dropna().median(), inplace=True)\r\n"
   ],
   "outputs": [],
   "metadata": {}
  },
  {
   "cell_type": "code",
   "execution_count": 21,
   "source": [
    "#抽取前五个样本，查看是否所有特征均得到合适处理\r\n",
    "data_train.head()\r\n"
   ],
   "outputs": [
    {
     "output_type": "execute_result",
     "data": {
      "text/html": [
       "<div>\n",
       "<style scoped>\n",
       "    .dataframe tbody tr th:only-of-type {\n",
       "        vertical-align: middle;\n",
       "    }\n",
       "\n",
       "    .dataframe tbody tr th {\n",
       "        vertical-align: top;\n",
       "    }\n",
       "\n",
       "    .dataframe thead th {\n",
       "        text-align: right;\n",
       "    }\n",
       "</style>\n",
       "<table border=\"1\" class=\"dataframe\">\n",
       "  <thead>\n",
       "    <tr style=\"text-align: right;\">\n",
       "      <th></th>\n",
       "      <th>PassengerId</th>\n",
       "      <th>Survived</th>\n",
       "      <th>Pclass</th>\n",
       "      <th>Name</th>\n",
       "      <th>Sex</th>\n",
       "      <th>Age</th>\n",
       "      <th>SibSp</th>\n",
       "      <th>Parch</th>\n",
       "      <th>Ticket</th>\n",
       "      <th>Fare</th>\n",
       "      <th>Cabin</th>\n",
       "      <th>Embarked</th>\n",
       "    </tr>\n",
       "  </thead>\n",
       "  <tbody>\n",
       "    <tr>\n",
       "      <th>0</th>\n",
       "      <td>1</td>\n",
       "      <td>0</td>\n",
       "      <td>3</td>\n",
       "      <td>Braund, Mr. Owen Harris</td>\n",
       "      <td>2</td>\n",
       "      <td>22.0</td>\n",
       "      <td>1</td>\n",
       "      <td>0</td>\n",
       "      <td>A/5 21171</td>\n",
       "      <td>7.2500</td>\n",
       "      <td>0</td>\n",
       "      <td>S</td>\n",
       "    </tr>\n",
       "    <tr>\n",
       "      <th>1</th>\n",
       "      <td>2</td>\n",
       "      <td>1</td>\n",
       "      <td>1</td>\n",
       "      <td>Cumings, Mrs. John Bradley (Florence Briggs Th...</td>\n",
       "      <td>1</td>\n",
       "      <td>38.0</td>\n",
       "      <td>1</td>\n",
       "      <td>0</td>\n",
       "      <td>PC 17599</td>\n",
       "      <td>71.2833</td>\n",
       "      <td>3</td>\n",
       "      <td>C</td>\n",
       "    </tr>\n",
       "    <tr>\n",
       "      <th>2</th>\n",
       "      <td>3</td>\n",
       "      <td>1</td>\n",
       "      <td>3</td>\n",
       "      <td>Heikkinen, Miss. Laina</td>\n",
       "      <td>1</td>\n",
       "      <td>26.0</td>\n",
       "      <td>0</td>\n",
       "      <td>0</td>\n",
       "      <td>STON/O2. 3101282</td>\n",
       "      <td>7.9250</td>\n",
       "      <td>0</td>\n",
       "      <td>S</td>\n",
       "    </tr>\n",
       "    <tr>\n",
       "      <th>3</th>\n",
       "      <td>4</td>\n",
       "      <td>1</td>\n",
       "      <td>1</td>\n",
       "      <td>Futrelle, Mrs. Jacques Heath (Lily May Peel)</td>\n",
       "      <td>1</td>\n",
       "      <td>35.0</td>\n",
       "      <td>1</td>\n",
       "      <td>0</td>\n",
       "      <td>113803</td>\n",
       "      <td>53.1000</td>\n",
       "      <td>3</td>\n",
       "      <td>S</td>\n",
       "    </tr>\n",
       "    <tr>\n",
       "      <th>4</th>\n",
       "      <td>5</td>\n",
       "      <td>0</td>\n",
       "      <td>3</td>\n",
       "      <td>Allen, Mr. William Henry</td>\n",
       "      <td>2</td>\n",
       "      <td>35.0</td>\n",
       "      <td>0</td>\n",
       "      <td>0</td>\n",
       "      <td>373450</td>\n",
       "      <td>8.0500</td>\n",
       "      <td>0</td>\n",
       "      <td>S</td>\n",
       "    </tr>\n",
       "  </tbody>\n",
       "</table>\n",
       "</div>"
      ],
      "text/plain": [
       "   PassengerId  Survived  Pclass  \\\n",
       "0            1         0       3   \n",
       "1            2         1       1   \n",
       "2            3         1       3   \n",
       "3            4         1       1   \n",
       "4            5         0       3   \n",
       "\n",
       "                                                Name  Sex   Age  SibSp  Parch  \\\n",
       "0                            Braund, Mr. Owen Harris    2  22.0      1      0   \n",
       "1  Cumings, Mrs. John Bradley (Florence Briggs Th...    1  38.0      1      0   \n",
       "2                             Heikkinen, Miss. Laina    1  26.0      0      0   \n",
       "3       Futrelle, Mrs. Jacques Heath (Lily May Peel)    1  35.0      1      0   \n",
       "4                           Allen, Mr. William Henry    2  35.0      0      0   \n",
       "\n",
       "             Ticket     Fare  Cabin Embarked  \n",
       "0         A/5 21171   7.2500      0        S  \n",
       "1          PC 17599  71.2833      3        C  \n",
       "2  STON/O2. 3101282   7.9250      0        S  \n",
       "3            113803  53.1000      3        S  \n",
       "4            373450   8.0500      0        S  "
      ]
     },
     "metadata": {},
     "execution_count": 21
    }
   ],
   "metadata": {}
  },
  {
   "cell_type": "code",
   "execution_count": 22,
   "source": [
    "#检查预测样本集是否对特征进行了处理\r\n",
    "data_test.head()\r\n"
   ],
   "outputs": [
    {
     "output_type": "execute_result",
     "data": {
      "text/html": [
       "<div>\n",
       "<style scoped>\n",
       "    .dataframe tbody tr th:only-of-type {\n",
       "        vertical-align: middle;\n",
       "    }\n",
       "\n",
       "    .dataframe tbody tr th {\n",
       "        vertical-align: top;\n",
       "    }\n",
       "\n",
       "    .dataframe thead th {\n",
       "        text-align: right;\n",
       "    }\n",
       "</style>\n",
       "<table border=\"1\" class=\"dataframe\">\n",
       "  <thead>\n",
       "    <tr style=\"text-align: right;\">\n",
       "      <th></th>\n",
       "      <th>PassengerId</th>\n",
       "      <th>Pclass</th>\n",
       "      <th>Name</th>\n",
       "      <th>Sex</th>\n",
       "      <th>Age</th>\n",
       "      <th>SibSp</th>\n",
       "      <th>Parch</th>\n",
       "      <th>Ticket</th>\n",
       "      <th>Fare</th>\n",
       "      <th>Cabin</th>\n",
       "      <th>Embarked</th>\n",
       "    </tr>\n",
       "  </thead>\n",
       "  <tbody>\n",
       "    <tr>\n",
       "      <th>0</th>\n",
       "      <td>892</td>\n",
       "      <td>3</td>\n",
       "      <td>Kelly, Mr. James</td>\n",
       "      <td>2</td>\n",
       "      <td>34.5</td>\n",
       "      <td>0</td>\n",
       "      <td>0</td>\n",
       "      <td>330911</td>\n",
       "      <td>7.8292</td>\n",
       "      <td>0</td>\n",
       "      <td>Q</td>\n",
       "    </tr>\n",
       "    <tr>\n",
       "      <th>1</th>\n",
       "      <td>893</td>\n",
       "      <td>3</td>\n",
       "      <td>Wilkes, Mrs. James (Ellen Needs)</td>\n",
       "      <td>1</td>\n",
       "      <td>47.0</td>\n",
       "      <td>1</td>\n",
       "      <td>0</td>\n",
       "      <td>363272</td>\n",
       "      <td>7.0000</td>\n",
       "      <td>0</td>\n",
       "      <td>S</td>\n",
       "    </tr>\n",
       "    <tr>\n",
       "      <th>2</th>\n",
       "      <td>894</td>\n",
       "      <td>2</td>\n",
       "      <td>Myles, Mr. Thomas Francis</td>\n",
       "      <td>2</td>\n",
       "      <td>62.0</td>\n",
       "      <td>0</td>\n",
       "      <td>0</td>\n",
       "      <td>240276</td>\n",
       "      <td>9.6875</td>\n",
       "      <td>0</td>\n",
       "      <td>Q</td>\n",
       "    </tr>\n",
       "    <tr>\n",
       "      <th>3</th>\n",
       "      <td>895</td>\n",
       "      <td>3</td>\n",
       "      <td>Wirz, Mr. Albert</td>\n",
       "      <td>2</td>\n",
       "      <td>27.0</td>\n",
       "      <td>0</td>\n",
       "      <td>0</td>\n",
       "      <td>315154</td>\n",
       "      <td>8.6625</td>\n",
       "      <td>0</td>\n",
       "      <td>S</td>\n",
       "    </tr>\n",
       "    <tr>\n",
       "      <th>4</th>\n",
       "      <td>896</td>\n",
       "      <td>3</td>\n",
       "      <td>Hirvonen, Mrs. Alexander (Helga E Lindqvist)</td>\n",
       "      <td>1</td>\n",
       "      <td>22.0</td>\n",
       "      <td>1</td>\n",
       "      <td>1</td>\n",
       "      <td>3101298</td>\n",
       "      <td>12.2875</td>\n",
       "      <td>0</td>\n",
       "      <td>S</td>\n",
       "    </tr>\n",
       "  </tbody>\n",
       "</table>\n",
       "</div>"
      ],
      "text/plain": [
       "   PassengerId  Pclass                                          Name  Sex  \\\n",
       "0          892       3                              Kelly, Mr. James    2   \n",
       "1          893       3              Wilkes, Mrs. James (Ellen Needs)    1   \n",
       "2          894       2                     Myles, Mr. Thomas Francis    2   \n",
       "3          895       3                              Wirz, Mr. Albert    2   \n",
       "4          896       3  Hirvonen, Mrs. Alexander (Helga E Lindqvist)    1   \n",
       "\n",
       "    Age  SibSp  Parch   Ticket     Fare  Cabin Embarked  \n",
       "0  34.5      0      0   330911   7.8292      0        Q  \n",
       "1  47.0      1      0   363272   7.0000      0        S  \n",
       "2  62.0      0      0   240276   9.6875      0        Q  \n",
       "3  27.0      0      0   315154   8.6625      0        S  \n",
       "4  22.0      1      1  3101298  12.2875      0        S  "
      ]
     },
     "metadata": {},
     "execution_count": 22
    }
   ],
   "metadata": {}
  },
  {
   "cell_type": "code",
   "execution_count": 23,
   "source": [
    "# Ticket\r\n",
    "df = data_train['Ticket'].value_counts()\r\n",
    "df = pd.DataFrame(df)\r\n",
    "df = df[df['Ticket'] > 1]\r\n",
    "df_ticket = df.index.values        #共享船票的票号\r\n",
    "tickets = data_train.Ticket.values    #所有的船票\r\n",
    "result = []\r\n",
    "for ticket in tickets:\r\n",
    "    if ticket in df_ticket:\r\n",
    "        ticket = 1\r\n",
    "    else:\r\n",
    "        ticket = 0                 #遍历所有船票，在共享船票里面的为1，否则为0\r\n",
    "    result.append(ticket)\r\n",
    "results = pd.DataFrame(result)\r\n",
    "results.columns = ['Ticket_Count']\r\n",
    "data_train = pd.concat([data_train, results], axis=1)\r\n",
    "\r\n",
    "df = data_test['Ticket'].value_counts()\r\n",
    "df = pd.DataFrame(df)\r\n",
    "df = df[df['Ticket'] > 1]\r\n",
    "df_ticket = df.index.values        #共享船票的票号\r\n",
    "tickets = data_test.Ticket.values    #所有的船票\r\n",
    "result = []\r\n",
    "for ticket in tickets:\r\n",
    "    if ticket in df_ticket:\r\n",
    "        ticket = 1\r\n",
    "    else:\r\n",
    "        ticket = 0                 #遍历所有船票，在共享船票里面的为1，否则为0\r\n",
    "    result.append(ticket)\r\n",
    "results = pd.DataFrame(result)\r\n",
    "results.columns = ['Ticket_Count']\r\n",
    "data_test = pd.concat([data_test, results], axis=1)\r\n"
   ],
   "outputs": [],
   "metadata": {}
  },
  {
   "cell_type": "code",
   "execution_count": 24,
   "source": [
    "# Cabin\r\n",
    "for dataset in combine:\r\n",
    "    dataset.loc[(dataset.Cabin.isnull()), 'Cabin'] = 0\r\n",
    "    dataset.loc[(dataset.Cabin.notnull()), 'Cabin'] = 1\r\n"
   ],
   "outputs": [],
   "metadata": {}
  },
  {
   "cell_type": "code",
   "execution_count": 25,
   "source": [
    "#方法一：因为只有两个，直接丢去\r\n",
    "data_train = data_train.dropna(subset=['Embarked'])\r\n",
    "# for data in combine:\r\n",
    "#     data.loc[data['Embarked']=='S']=1\r\n",
    "#     data.loc[data['Embarked']=='C']=2\r\n",
    "#     data.loc[data['Embarked']=='Q']=2\r\n",
    "data_train = data_train.replace({'Embarked':{'S':1,'C':2,'Q':3}})\r\n",
    "data_test = data_test.replace({'Embarked':{'S':1,'C':2,'Q':3}})\r\n"
   ],
   "outputs": [],
   "metadata": {}
  },
  {
   "cell_type": "code",
   "execution_count": 26,
   "source": [
    "data_test.shape[0] - data_test.count()\r\n"
   ],
   "outputs": [
    {
     "output_type": "execute_result",
     "data": {
      "text/plain": [
       "PassengerId     0\n",
       "Pclass          0\n",
       "Name            0\n",
       "Sex             0\n",
       "Age             0\n",
       "SibSp           0\n",
       "Parch           0\n",
       "Ticket          0\n",
       "Fare            0\n",
       "Cabin           0\n",
       "Embarked        0\n",
       "Ticket_Count    0\n",
       "dtype: int64"
      ]
     },
     "metadata": {},
     "execution_count": 26
    }
   ],
   "metadata": {}
  },
  {
   "cell_type": "code",
   "execution_count": 27,
   "source": [
    "data_train.shape[0] - data_train.count()\r\n"
   ],
   "outputs": [
    {
     "output_type": "execute_result",
     "data": {
      "text/plain": [
       "PassengerId     0\n",
       "Survived        0\n",
       "Pclass          0\n",
       "Name            0\n",
       "Sex             0\n",
       "Age             0\n",
       "SibSp           0\n",
       "Parch           0\n",
       "Ticket          0\n",
       "Fare            0\n",
       "Cabin           0\n",
       "Embarked        0\n",
       "Ticket_Count    0\n",
       "dtype: int64"
      ]
     },
     "metadata": {},
     "execution_count": 27
    }
   ],
   "metadata": {}
  },
  {
   "cell_type": "code",
   "execution_count": 28,
   "source": [
    "#特征\r\n",
    "data_test_X  = data_test[['Pclass', 'Sex', 'Age','SibSp', 'Parch', 'Fare', 'Embarked','Ticket_Count','Cabin']]\r\n",
    "X_train = data_train[['Pclass', 'Sex', 'Age','SibSp', 'Parch', 'Fare', 'Embarked','Ticket_Count','Cabin']]\r\n",
    "Y_train = data_train['Survived']\r\n",
    "X_test = data_test_X\r\n"
   ],
   "outputs": [],
   "metadata": {}
  },
  {
   "cell_type": "code",
   "execution_count": 29,
   "source": [
    "#模型比较\r\n",
    "#随机森林\r\n",
    "random_forest = RandomForestClassifier(n_estimators=300, max_depth=5, criterion='entropy')\r\n",
    "random_forest.fit(X_train, Y_train)\r\n",
    "Y_pred = random_forest.predict(X_test)\r\n"
   ],
   "outputs": [],
   "metadata": {}
  },
  {
   "cell_type": "code",
   "execution_count": 30,
   "source": [
    "#模型写出\r\n",
    "submission = pd.DataFrame({\r\n",
    "        \"PassengerId\": data_test[\"PassengerId\"],\r\n",
    "        \"Survived\": Y_pred\r\n",
    "    })\r\n",
    "submission.to_csv('./input/submission.csv', index=False)\r\n"
   ],
   "outputs": [],
   "metadata": {}
  },
  {
   "cell_type": "code",
   "execution_count": null,
   "source": [],
   "outputs": [],
   "metadata": {}
  }
 ],
 "metadata": {
  "orig_nbformat": 4,
  "language_info": {
   "name": "python",
   "version": "3.7.6",
   "mimetype": "text/x-python",
   "codemirror_mode": {
    "name": "ipython",
    "version": 3
   },
   "pygments_lexer": "ipython3",
   "nbconvert_exporter": "python",
   "file_extension": ".py"
  },
  "kernelspec": {
   "name": "python3",
   "display_name": "Python 3.7.6 64-bit"
  },
  "interpreter": {
   "hash": "37d2d62d60b5fcf07915d76a0e76fc8623a41d8bea66f9e343623875b91770f8"
  }
 },
 "nbformat": 4,
 "nbformat_minor": 2
}